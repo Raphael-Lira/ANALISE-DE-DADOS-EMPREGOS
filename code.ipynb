{
 "cells": [
  {
   "cell_type": "code",
   "execution_count": 24,
   "id": "61b33623",
   "metadata": {},
   "outputs": [],
   "source": [
    "import pandas as pd\n",
    "df = pd.read_csv('Customers.csv', sep=',')\n",
    "display(df)"
   ]
  },
  {
   "cell_type": "code",
   "execution_count": 26,
   "id": "c48544ac",
   "metadata": {},
   "outputs": [
    {
     "data": {
      "text/plain": [
       "Female    1186\n",
       "Male       814\n",
       "Name: Gender, dtype: int64"
      ]
     },
     "execution_count": 26,
     "metadata": {},
     "output_type": "execute_result"
    }
   ],
   "source": [
    "df['Gender'].value_counts()"
   ]
  },
  {
   "cell_type": "code",
   "execution_count": 11,
   "id": "df410e51",
   "metadata": {},
   "outputs": [
    {
     "data": {
      "text/plain": [
       "Artist           612\n",
       "Healthcare       339\n",
       "Entertainment    234\n",
       "Engineer         179\n",
       "Doctor           161\n",
       "Executive        153\n",
       "Lawyer           142\n",
       "Marketing         85\n",
       "Homemaker         60\n",
       "Name: Profession, dtype: int64"
      ]
     },
     "execution_count": 11,
     "metadata": {},
     "output_type": "execute_result"
    }
   ],
   "source": [
    "df['Profession'].value_counts()"
   ]
  },
  {
   "cell_type": "markdown",
   "id": "0ac718b1",
   "metadata": {},
   "source": [
    "# Filtrando para dividir entre homens e mulheres para ver a separação entre eles"
   ]
  },
  {
   "cell_type": "code",
   "execution_count": 27,
   "id": "42a5bc0c",
   "metadata": {},
   "outputs": [],
   "source": [
    "df_female = df.loc[df['Gender'] == 'Female']\n",
    "display(df_female)"
   ]
  },
  {
   "cell_type": "markdown",
   "id": "58e55125",
   "metadata": {},
   "source": [
    "# Olhando a idade e buscando encontrar algum padrão"
   ]
  },
  {
   "cell_type": "code",
   "execution_count": 28,
   "id": "ab1614a7",
   "metadata": {},
   "outputs": [],
   "source": [
    "df_female['Age'].value_counts()"
   ]
  },
  {
   "cell_type": "code",
   "execution_count": 14,
   "id": "ba7dd52e",
   "metadata": {},
   "outputs": [
    {
     "data": {
      "text/plain": [
       "Artist           380\n",
       "Healthcare       196\n",
       "Entertainment    133\n",
       "Engineer         103\n",
       "Doctor            89\n",
       "Executive         87\n",
       "Lawyer            86\n",
       "Marketing         53\n",
       "Homemaker         39\n",
       "Name: Profession, dtype: int64"
      ]
     },
     "execution_count": 14,
     "metadata": {},
     "output_type": "execute_result"
    }
   ],
   "source": [
    "df_female['Profession'].value_counts()"
   ]
  },
  {
   "cell_type": "markdown",
   "id": "4d99fe3b",
   "metadata": {},
   "source": [
    "# Buscando semelhança entre idade, emprego e salario"
   ]
  },
  {
   "cell_type": "markdown",
   "id": "c33dc094",
   "metadata": {},
   "source": [
    "### Grupo de mulheres aos 30 anos"
   ]
  },
  {
   "cell_type": "code",
   "execution_count": 38,
   "id": "f6529bd7",
   "metadata": {},
   "outputs": [
    {
     "data": {
      "text/html": [
       "<div>\n",
       "<style scoped>\n",
       "    .dataframe tbody tr th:only-of-type {\n",
       "        vertical-align: middle;\n",
       "    }\n",
       "\n",
       "    .dataframe tbody tr th {\n",
       "        vertical-align: top;\n",
       "    }\n",
       "\n",
       "    .dataframe thead th {\n",
       "        text-align: right;\n",
       "    }\n",
       "</style>\n",
       "<table border=\"1\" class=\"dataframe\">\n",
       "  <thead>\n",
       "    <tr style=\"text-align: right;\">\n",
       "      <th></th>\n",
       "      <th>CustomerID</th>\n",
       "      <th>Gender</th>\n",
       "      <th>Age</th>\n",
       "      <th>Annual Income ($)</th>\n",
       "      <th>Spending Score (1-100)</th>\n",
       "      <th>Profession</th>\n",
       "      <th>Work Experience</th>\n",
       "      <th>Family Size</th>\n",
       "    </tr>\n",
       "  </thead>\n",
       "  <tbody>\n",
       "    <tr>\n",
       "      <th>2</th>\n",
       "      <td>3</td>\n",
       "      <td>Female</td>\n",
       "      <td>20</td>\n",
       "      <td>86000</td>\n",
       "      <td>6</td>\n",
       "      <td>Engineer</td>\n",
       "      <td>1</td>\n",
       "      <td>1</td>\n",
       "    </tr>\n",
       "    <tr>\n",
       "      <th>3</th>\n",
       "      <td>4</td>\n",
       "      <td>Female</td>\n",
       "      <td>23</td>\n",
       "      <td>59000</td>\n",
       "      <td>77</td>\n",
       "      <td>Lawyer</td>\n",
       "      <td>0</td>\n",
       "      <td>2</td>\n",
       "    </tr>\n",
       "    <tr>\n",
       "      <th>5</th>\n",
       "      <td>6</td>\n",
       "      <td>Female</td>\n",
       "      <td>22</td>\n",
       "      <td>58000</td>\n",
       "      <td>76</td>\n",
       "      <td>Artist</td>\n",
       "      <td>0</td>\n",
       "      <td>2</td>\n",
       "    </tr>\n",
       "    <tr>\n",
       "      <th>7</th>\n",
       "      <td>8</td>\n",
       "      <td>Female</td>\n",
       "      <td>23</td>\n",
       "      <td>84000</td>\n",
       "      <td>94</td>\n",
       "      <td>Healthcare</td>\n",
       "      <td>1</td>\n",
       "      <td>3</td>\n",
       "    </tr>\n",
       "    <tr>\n",
       "      <th>13</th>\n",
       "      <td>14</td>\n",
       "      <td>Female</td>\n",
       "      <td>24</td>\n",
       "      <td>91000</td>\n",
       "      <td>77</td>\n",
       "      <td>Lawyer</td>\n",
       "      <td>1</td>\n",
       "      <td>1</td>\n",
       "    </tr>\n",
       "    <tr>\n",
       "      <th>...</th>\n",
       "      <td>...</td>\n",
       "      <td>...</td>\n",
       "      <td>...</td>\n",
       "      <td>...</td>\n",
       "      <td>...</td>\n",
       "      <td>...</td>\n",
       "      <td>...</td>\n",
       "      <td>...</td>\n",
       "    </tr>\n",
       "    <tr>\n",
       "      <th>1974</th>\n",
       "      <td>1975</td>\n",
       "      <td>Female</td>\n",
       "      <td>14</td>\n",
       "      <td>153145</td>\n",
       "      <td>59</td>\n",
       "      <td>Healthcare</td>\n",
       "      <td>8</td>\n",
       "      <td>6</td>\n",
       "    </tr>\n",
       "    <tr>\n",
       "      <th>1980</th>\n",
       "      <td>1981</td>\n",
       "      <td>Female</td>\n",
       "      <td>10</td>\n",
       "      <td>86925</td>\n",
       "      <td>76</td>\n",
       "      <td>Artist</td>\n",
       "      <td>7</td>\n",
       "      <td>2</td>\n",
       "    </tr>\n",
       "    <tr>\n",
       "      <th>1984</th>\n",
       "      <td>1985</td>\n",
       "      <td>Female</td>\n",
       "      <td>2</td>\n",
       "      <td>153622</td>\n",
       "      <td>51</td>\n",
       "      <td>Lawyer</td>\n",
       "      <td>6</td>\n",
       "      <td>6</td>\n",
       "    </tr>\n",
       "    <tr>\n",
       "      <th>1986</th>\n",
       "      <td>1987</td>\n",
       "      <td>Female</td>\n",
       "      <td>4</td>\n",
       "      <td>68094</td>\n",
       "      <td>61</td>\n",
       "      <td>Doctor</td>\n",
       "      <td>4</td>\n",
       "      <td>7</td>\n",
       "    </tr>\n",
       "    <tr>\n",
       "      <th>1994</th>\n",
       "      <td>1995</td>\n",
       "      <td>Female</td>\n",
       "      <td>19</td>\n",
       "      <td>54121</td>\n",
       "      <td>89</td>\n",
       "      <td>Engineer</td>\n",
       "      <td>6</td>\n",
       "      <td>3</td>\n",
       "    </tr>\n",
       "  </tbody>\n",
       "</table>\n",
       "<p>340 rows × 8 columns</p>\n",
       "</div>"
      ],
      "text/plain": [
       "      CustomerID  Gender  Age  Annual Income ($)  Spending Score (1-100)  \\\n",
       "2              3  Female   20              86000                       6   \n",
       "3              4  Female   23              59000                      77   \n",
       "5              6  Female   22              58000                      76   \n",
       "7              8  Female   23              84000                      94   \n",
       "13            14  Female   24              91000                      77   \n",
       "...          ...     ...  ...                ...                     ...   \n",
       "1974        1975  Female   14             153145                      59   \n",
       "1980        1981  Female   10              86925                      76   \n",
       "1984        1985  Female    2             153622                      51   \n",
       "1986        1987  Female    4              68094                      61   \n",
       "1994        1995  Female   19              54121                      89   \n",
       "\n",
       "      Profession  Work Experience  Family Size  \n",
       "2       Engineer                1            1  \n",
       "3         Lawyer                0            2  \n",
       "5         Artist                0            2  \n",
       "7     Healthcare                1            3  \n",
       "13        Lawyer                1            1  \n",
       "...          ...              ...          ...  \n",
       "1974  Healthcare                8            6  \n",
       "1980      Artist                7            2  \n",
       "1984      Lawyer                6            6  \n",
       "1986      Doctor                4            7  \n",
       "1994    Engineer                6            3  \n",
       "\n",
       "[340 rows x 8 columns]"
      ]
     },
     "metadata": {},
     "output_type": "display_data"
    }
   ],
   "source": [
    "# Divindo df em 3 tipos de idades \n",
    "df_female['Age'].astype('int')\n",
    "df_female_age30 = df_female.loc[df_female['Age'] < 30]\n",
    "display(df_female_age30) \n",
    " "
   ]
  },
  {
   "cell_type": "markdown",
   "id": "b205b81f",
   "metadata": {},
   "source": [
    "#### Qual o tipo de emprego e media salarial até os 30 anos\n"
   ]
  },
  {
   "cell_type": "code",
   "execution_count": 4,
   "id": "011a46a9",
   "metadata": {},
   "outputs": [
    {
     "data": {
      "text/plain": [
       "Artist           102\n",
       "Healthcare        57\n",
       "Entertainment     38\n",
       "Lawyer            28\n",
       "Doctor            28\n",
       "Executive         26\n",
       "Engineer          24\n",
       "Marketing         20\n",
       "Homemaker         10\n",
       "Name: Profession, dtype: int64"
      ]
     },
     "execution_count": 4,
     "metadata": {},
     "output_type": "execute_result"
    }
   ],
   "source": [
    "df_female_age30['Profession'].value_counts()"
   ]
  },
  {
   "cell_type": "code",
   "execution_count": 39,
   "id": "bd63ff64",
   "metadata": {},
   "outputs": [
    {
     "name": "stdout",
     "output_type": "stream",
     "text": [
      "Anual sendo = $112,483.47\n",
      "Media de gasto de mulheres de 30 anos em score = 51.35\n"
     ]
    }
   ],
   "source": [
    "df_female_age30['Age'].astype('int')\n",
    "print('Anual sendo = ${:,.2f}'.format(df_female_age30['Annual Income ($)'].mean()))\n",
    "print('Media de gasto de mulheres de 30 anos em score = {:.2f}'.format(df_female_age30['Spending Score (1-100)'].mean()))"
   ]
  },
  {
   "cell_type": "markdown",
   "id": "85176d59",
   "metadata": {},
   "source": [
    "#### Qual tipo de emprego as mulheres em media tem dos 30 aos 60 anos"
   ]
  },
  {
   "cell_type": "code",
   "execution_count": 29,
   "id": "bd93689d",
   "metadata": {},
   "outputs": [],
   "source": [
    "df_female['Age'].astype('int')\n",
    "df_female_age60_temp = df_female.loc[df_female['Age'] > 30]\n",
    "df_female_age60 = df_female_age60_temp.loc[df_female_age60_temp['Age'] < 60]\n",
    "display(df_female_age60) \n",
    " "
   ]
  },
  {
   "cell_type": "code",
   "execution_count": 19,
   "id": "46e9422f",
   "metadata": {},
   "outputs": [
    {
     "data": {
      "text/plain": [
       "Artist           123\n",
       "Healthcare        68\n",
       "Entertainment     43\n",
       "Engineer          31\n",
       "Lawyer            26\n",
       "Doctor            26\n",
       "Executive         25\n",
       "Homemaker         18\n",
       "Marketing         12\n",
       "Name: Profession, dtype: int64"
      ]
     },
     "execution_count": 19,
     "metadata": {},
     "output_type": "execute_result"
    }
   ],
   "source": [
    "df_female_age60['Profession'].value_counts()"
   ]
  },
  {
   "cell_type": "code",
   "execution_count": 18,
   "id": "d31f082c",
   "metadata": {},
   "outputs": [
    {
     "name": "stdout",
     "output_type": "stream",
     "text": [
      "Anual sendo = $105,245.18\n",
      "Media de gasto de mulheres entre 30 a 60 anos score = 49.21\n"
     ]
    }
   ],
   "source": [
    "print('Anual sendo = ${:,.2f}'.format(df_female_age60['Annual Income ($)'].mean()))\n",
    "\n",
    "print('Media de gasto de mulheres entre 30 a 60 anos score = {:.2f}'.format(df_female_age60['Spending Score (1-100)'].mean()))"
   ]
  },
  {
   "cell_type": "markdown",
   "id": "dce1c88f",
   "metadata": {},
   "source": [
    "#### Qual tipo de emprego e media salarial para as mulheres acima de 60 anos"
   ]
  },
  {
   "cell_type": "code",
   "execution_count": 30,
   "id": "3ccd2555",
   "metadata": {},
   "outputs": [],
   "source": [
    "# Divindo df em 3 tipos de idades \n",
    "df_female_age_old = df_female.loc[df_female['Age'] > 60]\n",
    "display(df_female_age_old) "
   ]
  },
  {
   "cell_type": "code",
   "execution_count": 15,
   "id": "949c0be0",
   "metadata": {},
   "outputs": [
    {
     "data": {
      "text/plain": [
       "Artist           141\n",
       "Healthcare        64\n",
       "Entertainment     49\n",
       "Engineer          47\n",
       "Executive         34\n",
       "Doctor            32\n",
       "Lawyer            31\n",
       "Marketing         20\n",
       "Homemaker         11\n",
       "Name: Profession, dtype: int64"
      ]
     },
     "execution_count": 15,
     "metadata": {},
     "output_type": "execute_result"
    }
   ],
   "source": [
    "df_female_age_old['Profession'].value_counts()"
   ]
  },
  {
   "cell_type": "code",
   "execution_count": 31,
   "id": "62e0506a",
   "metadata": {},
   "outputs": [
    {
     "name": "stdout",
     "output_type": "stream",
     "text": [
      "Anual sendo = $113,438.56\n",
      "Media de gasto de mulheres mais velha em score = 52.21\n"
     ]
    }
   ],
   "source": [
    "print('Anual sendo = ${:,.2f}'.format(df_female_age_old['Annual Income ($)'].mean()))\n",
    "\n",
    "print('Media de gasto de mulheres mais velha em score = {:.2f}'.format(df_female_age_old['Spending Score (1-100)'].mean()))"
   ]
  },
  {
   "cell_type": "markdown",
   "id": "1efc154b",
   "metadata": {},
   "source": [
    "### Agora que fiz a diferença de salario entre as idades  vou buscar um motivo pra entender oque fazem as mulheres mais velhas receberem mais dinheiro anualmente\n",
    "- Após buscar resultados entendi que existem mais mulheres acima de 60 anos e entendi o porque ganham mais nos resultados\n",
    "- O maior resultado de salario das mulheres acima de 60 anos\n",
    "- As mulheres mais novas e mais velha tendem a gastar mais tendo uma pontuação de score de gastos acima de 50"
   ]
  },
  {
   "cell_type": "code",
   "execution_count": 27,
   "id": "fd23cccc",
   "metadata": {},
   "outputs": [
    {
     "name": "stdout",
     "output_type": "stream",
     "text": [
      "<class 'pandas.core.frame.DataFrame'>\n",
      "Int64Index: 434 entries, 40 to 1996\n",
      "Data columns (total 8 columns):\n",
      " #   Column                  Non-Null Count  Dtype \n",
      "---  ------                  --------------  ----- \n",
      " 0   CustomerID              434 non-null    int64 \n",
      " 1   Gender                  434 non-null    object\n",
      " 2   Age                     434 non-null    int64 \n",
      " 3   Annual Income ($)       434 non-null    int64 \n",
      " 4   Spending Score (1-100)  434 non-null    int64 \n",
      " 5   Profession              429 non-null    object\n",
      " 6   Work Experience         434 non-null    int64 \n",
      " 7   Family Size             434 non-null    int64 \n",
      "dtypes: int64(6), object(2)\n",
      "memory usage: 30.5+ KB\n",
      "$189,974.00\n"
     ]
    }
   ],
   "source": [
    "df_female_age_old.info()\n",
    "print('${:,.2f}'.format(df_female_age_old['Annual Income ($)'].max()))"
   ]
  },
  {
   "cell_type": "code",
   "execution_count": 26,
   "id": "0fa39e3f",
   "metadata": {},
   "outputs": [
    {
     "name": "stdout",
     "output_type": "stream",
     "text": [
      "<class 'pandas.core.frame.DataFrame'>\n",
      "Int64Index: 340 entries, 2 to 1994\n",
      "Data columns (total 8 columns):\n",
      " #   Column                  Non-Null Count  Dtype \n",
      "---  ------                  --------------  ----- \n",
      " 0   CustomerID              340 non-null    int64 \n",
      " 1   Gender                  340 non-null    object\n",
      " 2   Age                     340 non-null    int64 \n",
      " 3   Annual Income ($)       340 non-null    int64 \n",
      " 4   Spending Score (1-100)  340 non-null    int64 \n",
      " 5   Profession              333 non-null    object\n",
      " 6   Work Experience         340 non-null    int64 \n",
      " 7   Family Size             340 non-null    int64 \n",
      "dtypes: int64(6), object(2)\n",
      "memory usage: 23.9+ KB\n",
      "$189,689.00\n"
     ]
    }
   ],
   "source": [
    "df_female_age30.info()\n",
    "print('${:,.2f}'.format(df_female_age30['Annual Income ($)'].max()))"
   ]
  },
  {
   "cell_type": "code",
   "execution_count": 28,
   "id": "c2054afa",
   "metadata": {},
   "outputs": [
    {
     "name": "stdout",
     "output_type": "stream",
     "text": [
      "<class 'pandas.core.frame.DataFrame'>\n",
      "Int64Index: 379 entries, 4 to 1989\n",
      "Data columns (total 8 columns):\n",
      " #   Column                  Non-Null Count  Dtype \n",
      "---  ------                  --------------  ----- \n",
      " 0   CustomerID              379 non-null    int64 \n",
      " 1   Gender                  379 non-null    object\n",
      " 2   Age                     379 non-null    int64 \n",
      " 3   Annual Income ($)       379 non-null    int64 \n",
      " 4   Spending Score (1-100)  379 non-null    int64 \n",
      " 5   Profession              372 non-null    object\n",
      " 6   Work Experience         379 non-null    int64 \n",
      " 7   Family Size             379 non-null    int64 \n",
      "dtypes: int64(6), object(2)\n",
      "memory usage: 26.6+ KB\n",
      "$189,672.00\n"
     ]
    }
   ],
   "source": [
    "df_female_age60.info()\n",
    "print('${:,.2f}'.format(df_female_age60['Annual Income ($)'].max()))"
   ]
  },
  {
   "cell_type": "markdown",
   "id": "da6df0e0",
   "metadata": {},
   "source": [
    "# Calculando media de salário anual das mulheres"
   ]
  },
  {
   "cell_type": "code",
   "execution_count": 29,
   "id": "16b0d2d8",
   "metadata": {},
   "outputs": [
    {
     "name": "stdout",
     "output_type": "stream",
     "text": [
      "Anual sendo = $110,553.72\n",
      "Mensal sendo = $9,212.81\n"
     ]
    }
   ],
   "source": [
    "print('Anual sendo = ${:,.2f}'.format(df_female['Annual Income ($)'].mean()))\n",
    "print('Mensal sendo = ${:,.2f}'.format(df_female['Annual Income ($)'].mean() / 12))"
   ]
  },
  {
   "cell_type": "markdown",
   "id": "60ea9809",
   "metadata": {},
   "source": [
    "# Tabela dos homens para entender a diferença e comparar - "
   ]
  },
  {
   "cell_type": "code",
   "execution_count": 31,
   "id": "48e35da2",
   "metadata": {},
   "outputs": [],
   "source": [
    "df_male = df.loc[df['Gender'] == 'Male']\n",
    "+display(df_male)"
   ]
  },
  {
   "cell_type": "markdown",
   "id": "29c94a04",
   "metadata": {},
   "source": [
    "## Empregos - Salario - Gastos "
   ]
  },
  {
   "cell_type": "code",
   "execution_count": 10,
   "id": "07eb5b1b",
   "metadata": {},
   "outputs": [
    {
     "data": {
      "text/plain": [
       "Artist           232\n",
       "Healthcare       143\n",
       "Entertainment    101\n",
       "Engineer          76\n",
       "Doctor            72\n",
       "Executive         66\n",
       "Lawyer            56\n",
       "Marketing         32\n",
       "Homemaker         21\n",
       "Name: Profession, dtype: int64"
      ]
     },
     "execution_count": 10,
     "metadata": {},
     "output_type": "execute_result"
    }
   ],
   "source": [
    "df_male['Profession'].value_counts()"
   ]
  },
  {
   "cell_type": "code",
   "execution_count": 6,
   "id": "c6d346a4",
   "metadata": {},
   "outputs": [
    {
     "name": "stdout",
     "output_type": "stream",
     "text": [
      "$110,991.32\n"
     ]
    }
   ],
   "source": [
    "print('${:,.2f}'.format(df_male['Annual Income ($)'].mean()))"
   ]
  },
  {
   "cell_type": "code",
   "execution_count": 9,
   "id": "34714d1d",
   "metadata": {},
   "outputs": [
    {
     "name": "stdout",
     "output_type": "stream",
     "text": [
      "Media de gasto em score dos homens = 50.94\n"
     ]
    }
   ],
   "source": [
    "print('Media de gasto em score dos homens = {:.2f}'.format(df_male['Spending Score (1-100)'].mean()))"
   ]
  },
  {
   "cell_type": "markdown",
   "id": "038375ad",
   "metadata": {},
   "source": [
    "## Dividindo homens em 3 idades"
   ]
  },
  {
   "cell_type": "code",
   "execution_count": 15,
   "id": "c5ae80aa",
   "metadata": {},
   "outputs": [],
   "source": [
    "df_male['Age'].astype('int')\n",
    "#\n",
    "df_male_age30 = df_male.loc[df_male['Age'] < 30]\n",
    "#\n",
    "df_male_age60_temp = df_male.loc[df_male['Age'] > 30]\n",
    "df_male_age60 = df_male_age60_temp.loc[df_male_age60_temp['Age'] < 60]\n",
    "#\n",
    "df_male_old = df_male.loc[df_male['Age'] > 60]"
   ]
  },
  {
   "cell_type": "markdown",
   "id": "83ccd139",
   "metadata": {},
   "source": [
    "## Grupo dos 30 anos"
   ]
  },
  {
   "cell_type": "code",
   "execution_count": 23,
   "id": "6dec1271",
   "metadata": {},
   "outputs": [
    {
     "data": {
      "text/plain": [
       "Artist           71\n",
       "Healthcare       43\n",
       "Entertainment    28\n",
       "Executive        23\n",
       "Doctor           22\n",
       "Engineer         20\n",
       "Lawyer           17\n",
       "Marketing        15\n",
       "Homemaker         9\n",
       "Name: Profession, dtype: int64"
      ]
     },
     "execution_count": 23,
     "metadata": {},
     "output_type": "execute_result"
    }
   ],
   "source": [
    "df_male_age30['Profession'].value_counts()"
   ]
  },
  {
   "cell_type": "code",
   "execution_count": 22,
   "id": "ed697e93",
   "metadata": {},
   "outputs": [
    {
     "name": "stdout",
     "output_type": "stream",
     "text": [
      "$112,603.06\n",
      "Maior salario $189,709.00\n",
      "Media de gasto de homens de até 30 anos em score = 55.72\n"
     ]
    }
   ],
   "source": [
    "print('${:,.2f}'.format(df_male_age30['Annual Income ($)'].mean()))\n",
    "#\n",
    "print('Maior salario ${:,.2f}'.format(df_male_age30['Annual Income ($)'].max()))\n",
    "\n",
    "print('Media de gasto de homens de até 30 anos em score = {:.2f}'.format(df_male_age30['Spending Score (1-100)'].mean()))"
   ]
  },
  {
   "cell_type": "markdown",
   "id": "2f198e2b",
   "metadata": {},
   "source": [
    "# Homens de 30 a 60 anos"
   ]
  },
  {
   "cell_type": "code",
   "execution_count": 32,
   "id": "8eec1528",
   "metadata": {},
   "outputs": [
    {
     "name": "stdout",
     "output_type": "stream",
     "text": [
      "$103,226.42\n",
      "Maior salario $189,091.00\n",
      "Media de gasto de homens de até 30 anos em score = 50.25\n"
     ]
    }
   ],
   "source": [
    "print('${:,.2f}'.format(df_male_age60['Annual Income ($)'].mean()))\n",
    "#\n",
    "print('Maior salario ${:,.2f}'.format(df_male_age60['Annual Income ($)'].max()))\n",
    "\n",
    "print('Media de gasto de homens de até 30 anos em score = {:.2f}'.format(df_male_age60['Spending Score (1-100)'].mean()))"
   ]
  },
  {
   "cell_type": "markdown",
   "id": "c0cf386d",
   "metadata": {},
   "source": [
    "# Homens de 60 anos +"
   ]
  },
  {
   "cell_type": "code",
   "execution_count": 33,
   "id": "962de65a",
   "metadata": {},
   "outputs": [
    {
     "name": "stdout",
     "output_type": "stream",
     "text": [
      "$114,801.62\n",
      "Maior salario $189,357.00\n",
      "Media de gasto de homens de até 30 anos em score = 47.62\n"
     ]
    }
   ],
   "source": [
    "print('${:,.2f}'.format(df_male_old['Annual Income ($)'].mean()))\n",
    "#\n",
    "print('Maior salario ${:,.2f}'.format(df_male_old['Annual Income ($)'].max()))\n",
    "\n",
    "print('Media de gasto de homens de até 30 anos em score = {:.2f}'.format(df_male_old['Spending Score (1-100)'].mean()))"
   ]
  },
  {
   "cell_type": "markdown",
   "id": "ade12d3a",
   "metadata": {},
   "source": [
    "# Media de salario dos homens "
   ]
  },
  {
   "cell_type": "code",
   "execution_count": 36,
   "id": "5be009a2",
   "metadata": {},
   "outputs": [
    {
     "name": "stdout",
     "output_type": "stream",
     "text": [
      "Anual sendo = $110,991.32\n",
      "Mensal sendo = $9,249.28\n"
     ]
    }
   ],
   "source": [
    "print('Anual sendo = ${:,.2f}'.format(df_male['Annual Income ($)'].mean()))\n",
    "print('Mensal sendo = ${:,.2f}'.format(df_male['Annual Income ($)'].mean() / 12))"
   ]
  },
  {
   "cell_type": "markdown",
   "id": "9175d86a",
   "metadata": {},
   "source": [
    "# Relatorio final parte 1 - "
   ]
  },
  {
   "cell_type": "raw",
   "id": "089f9669",
   "metadata": {},
   "source": [
    "* Antes de categorizar algo é importante ressaltar a diferença de quantidade entre homens e mulheres pois nesse DF existem quase 300 mulheres a mais doque homens por tanto naturalmente faz uma diferença na hora de comparar ambos mesmo assim temos grandes resultados para falar...\n",
    "\n",
    "\n",
    " 1- Tanto homens quanto mulheres até os 30 anos e depois dos 60 anos ganham mais dinheiro - \n",
    " As mulheres até os 30 anos tem uma media anual sendo = $112,483.47\n",
    " Os homens até os 30 anos tem uma media anual sendo = $112,603.06\n",
    " -\n",
    " As mulheres dos 30 ao 60 anos tem uma media anual sendo = $105,245.18\n",
    " Os homens dos 30 a 60 anos tem uma media anual sendo = $103,226.42\n",
    " -\n",
    " As mulheres acima dos 60 anos tem uma media anual sendo = $113,438.56\n",
    " Os homens acima dos 60 anos tem uma media anual sendo = $114,801.62\n",
    " \n",
    " 2 - Os homens tendem a ganhar mais que as mulheres: Esse dado não é preciso pela falta de 300 homens no DF\n",
    " As mulheres : Anual sendo = $110,553.72 Mensal sendo = $9,212.81\n",
    " Os homens : Anual sendo = $110,991.32 Mensal sendo = $9,249.28\n",
    " \n",
    " 3- No grupo das mulheres o auge do salario veio depois dos 60 anos já os homens vem antes dos 30 anos:\n",
    " Sendo as mulheres acima dos 60 anos= $189,974.00\n",
    " Sendo os homens aos 30 anos= $189,709.00\n",
    " \n",
    " 4- Na pontuação de gastos existe uma diferença sutil mas importante \n",
    " Os homens até os 30 anos gastam mais que as mulheres tendo uma diferença de 55.72 para 51.35 das mulheres\n",
    " Ainda dos 30 anos aos 60 anos os homens tendem a gastar mais :\n",
    " Mulheres dos 30 aos 60 anos : 49.21\n",
    " Homens dos 30 aos 60 anos : 50.25\n",
    " Porém acima dos 60 anos existe uma diferença de gasto muito grande onde as mulheres gastam mais que os homens\n",
    " Sendo as mulhers acima dos 60 anos com um score de : 52.21\n",
    " Sendo os homens acima dos 60 anos com um score de : 47.62\n",
    " ----------------------------------------------------------------------------------------------------------------------------\n",
    " Esse DF foi pego no Kaggle a um tempo por tanto não sei dizer de qual pais pertence\n",
    " O projeto não é preciso pois existe uma diferença de 300 homens na tabela oque mudaria alguns resultados\n",
    " - Mesmo assim com esse resultado da para entender boas estrategias de marketing, se homens de 60 anos para baixo tendem a gastar mais as empresas podem tentar lucrar em cima disso com algo que faça sentido para homens abaixo dos 60 anos.\n",
    "Porém da mesma forma as empresas podem fazer midias para o mercado de mulheres acima dos  60 anos já que elas tendem a ganhar mais"
   ]
  },
  {
   "cell_type": "markdown",
   "id": "d86a910f",
   "metadata": {},
   "source": [
    "## Nas proximas celulas irei fazer um trabalho plotando e irei incluir uma nova vertente para explorar... O tema dessa vertente é o quanto o tamanho de familia e anos de experiencia podem influenciar no salario anual das pessoas "
   ]
  },
  {
   "cell_type": "code",
   "execution_count": null,
   "id": "9b0b2f92",
   "metadata": {},
   "outputs": [],
   "source": []
  }
 ],
 "metadata": {
  "kernelspec": {
   "display_name": "Python 3 (ipykernel)",
   "language": "python",
   "name": "python3"
  },
  "language_info": {
   "codemirror_mode": {
    "name": "ipython",
    "version": 3
   },
   "file_extension": ".py",
   "mimetype": "text/x-python",
   "name": "python",
   "nbconvert_exporter": "python",
   "pygments_lexer": "ipython3",
   "version": "3.9.13"
  }
 },
 "nbformat": 4,
 "nbformat_minor": 5
}
